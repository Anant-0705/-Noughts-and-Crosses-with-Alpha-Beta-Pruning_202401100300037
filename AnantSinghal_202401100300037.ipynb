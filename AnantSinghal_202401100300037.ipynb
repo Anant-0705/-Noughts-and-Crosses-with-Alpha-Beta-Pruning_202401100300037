{
 "cells": [
  {
   "cell_type": "code",
   "execution_count": null,
   "metadata": {
    "vscode": {
     "languageId": "plaintext"
    }
   },
   "outputs": [],
   "source": [
    "import math"
   ]
  },
  {
   "cell_type": "code",
   "execution_count": null,
   "metadata": {
    "vscode": {
     "languageId": "plaintext"
    }
   },
   "outputs": [],
   "source": [
    "def print_board(board):\n",
    "    for row in board:\n",
    "        print(\" | \".join(row))\n",
    "        print(\"-\" * 9)\n"
   ]
  },
  {
   "cell_type": "code",
   "execution_count": null,
   "metadata": {
    "vscode": {
     "languageId": "plaintext"
    }
   },
   "outputs": [],
   "source": [
    "# Check rows, columns, and diagonals\n",
    "def check_win(board, player):\n",
    "    for i in range(3):\n",
    "        if all(board[i][j] == player for j in range(3)):\n",
    "            return True\n",
    "        if all(board[j][i] == player for j in range(3)):\n",
    "            return True\n",
    "    if all(board[i][i] == player for i in range(3)):\n",
    "        return True\n",
    "    if all(board[i][2 - i] == player for i in range(3)):\n",
    "        return True\n",
    "    return False\n",
    "\n",
    "def check_draw(board):\n",
    "    for row in board:\n",
    "        if \" \" in row:\n",
    "            return False\n",
    "    return True\n",
    "\n",
    "def get_available_moves(board):\n",
    "    moves = []\n",
    "    for i in range(3):\n",
    "        for j in range(3):\n",
    "            if board[i][j] == \" \":\n",
    "                moves.append((i, j))\n",
    "    return moves\n",
    "\n",
    "def evaluate(board):\n",
    "    if check_win(board, \"X\"):\n",
    "        return 1\n",
    "    elif check_win(board, \"O\"):\n",
    "        return -1\n",
    "    else:\n",
    "        return 0\n",
    "\n",
    "def minimax(board, depth, maximizing_player, alpha, beta):\n",
    "    if check_win(board, \"X\"):\n",
    "        return 1\n",
    "    if check_win(board, \"O\"):\n",
    "        return -1\n",
    "    if check_draw(board):\n",
    "        return 0\n",
    "\n",
    "    if maximizing_player:\n",
    "        max_eval = -math.inf\n",
    "        for i, j in get_available_moves(board):\n",
    "            board[i][j] = \"X\"\n",
    "            eval = minimax(board, depth + 1, False, alpha, beta)\n",
    "            board[i][j] = \" \"  # Backtrack\n",
    "            max_eval = max(max_eval, eval)\n",
    "            alpha = max(alpha, eval)\n",
    "            if beta <= alpha:\n",
    "                break\n",
    "        return max_eval\n",
    "    else:\n",
    "        min_eval = math.inf\n",
    "        for i, j in get_available_moves(board):\n",
    "            board[i][j] = \"O\"\n",
    "            eval = minimax(board, depth + 1, True, alpha, beta)\n",
    "            board[i][j] = \" \"  # Backtrack\n",
    "            min_eval = min(min_eval, eval)\n",
    "            beta = min(beta, eval)\n",
    "            if beta <= alpha:\n",
    "                break\n",
    "        return min_eval\n",
    "\n",
    "def find_best_move(board):\n",
    "    best_val = -math.inf\n",
    "    best_move = None\n",
    "    for i, j in get_available_moves(board):\n",
    "        board[i][j] = \"X\"\n",
    "        move_val = minimax(board, 0, False, -math.inf, math.inf)\n",
    "        board[i][j] = \" \"\n",
    "        if move_val > best_val:\n",
    "            best_move = (i, j)\n",
    "            best_val = move_val\n",
    "    return best_move"
   ]
  },
  {
   "cell_type": "code",
   "execution_count": null,
   "metadata": {
    "vscode": {
     "languageId": "plaintext"
    }
   },
   "outputs": [],
   "source": [
    "# Example usage\n",
    "board = [[\" \" for _ in range(3)] for _ in range(3)]\n",
    "print_board(board)\n",
    "\n",
    "while True:\n",
    "    move = find_best_move(board)\n",
    "    if move:\n",
    "      board[move[0]][move[1]] = \"X\"\n",
    "      print_board(board)\n",
    "\n",
    "      if check_win(board, \"X\"):\n",
    "          print(\"X wins!\")\n",
    "          break\n",
    "      if check_draw(board):\n",
    "          print(\"It's a draw!\")\n",
    "          break\n",
    "    else:\n",
    "      print(\"No valid moves\")\n",
    "      break"
   ]
  }
 ],
 "metadata": {
  "language_info": {
   "name": "python"
  }
 },
 "nbformat": 4,
 "nbformat_minor": 2
}
